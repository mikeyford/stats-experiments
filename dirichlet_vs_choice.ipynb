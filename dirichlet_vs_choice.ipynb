{
 "cells": [
  {
   "cell_type": "code",
   "execution_count": 279,
   "metadata": {},
   "outputs": [],
   "source": [
    "import numpy as np\n",
    "\n",
    "from numpy.random import dirichlet as d\n",
    "from numpy.random import multinomial as m\n",
    "from numpy.random import choice as c"
   ]
  },
  {
   "cell_type": "code",
   "execution_count": 280,
   "metadata": {},
   "outputs": [],
   "source": [
    "def draw_dir(a):\n",
    "    return m(n=1, pvals=d(a, size=1)[0], size=1)\n",
    "\n",
    "def draw_choice(a):\n",
    "    z = a/np.sum(a)\n",
    "    choice = c(['a', 'b', 'c'], p=z, size=1)[0]\n",
    "    return np.array({'a':[1,0,0], 'b':[0,1,0], 'c':[0,0,1]}[choice])\n"
   ]
  },
  {
   "cell_type": "code",
   "execution_count": 281,
   "metadata": {},
   "outputs": [
    {
     "name": "stdout",
     "output_type": "stream",
     "text": [
      "dir:\n",
      "[0.1648 0.3307 0.5045]\n",
      "[0.13764096 0.22133751 0.24997975]\n",
      "choice:\n",
      "[0.1702 0.3359 0.4939]\n",
      "[0.14123196 0.22307119 0.24996279]\n"
     ]
    }
   ],
   "source": [
    "sims = 10000\n",
    "a = [1,2,3]\n",
    "\n",
    "r_dir = np.zeros(shape=[sims, 3])\n",
    "r_choice = np.zeros(shape=[sims, 3])\n",
    "for i in range(sims):\n",
    "    r_dir[i] = draw_dir(a)\n",
    "    r_choice[i] = draw_choice(a)\n",
    "    \n",
    "print(\"dir:\")    \n",
    "print(np.mean(r_dir, axis=0))\n",
    "print(np.var(r_dir, axis=0))\n",
    "print(\"choice:\")\n",
    "print(np.mean(r_choice, axis=0))\n",
    "print(np.var(r_choice, axis=0))"
   ]
  },
  {
   "cell_type": "code",
   "execution_count": 282,
   "metadata": {},
   "outputs": [
    {
     "name": "stdout",
     "output_type": "stream",
     "text": [
      "dir:\n",
      "[0.166  0.3427 0.4913]\n",
      "[0.138444   0.22525671 0.24992431]\n",
      "choice:\n",
      "[0.1717 0.3229 0.5054]\n",
      "[0.14221911 0.21863559 0.24997084]\n"
     ]
    }
   ],
   "source": [
    "sims = 10000\n",
    "a = [100,200,300]\n",
    "\n",
    "r_dir = np.zeros(shape=[sims, 3])\n",
    "r_choice = np.zeros(shape=[sims, 3])\n",
    "for i in range(sims):\n",
    "    r_dir[i] = draw_dir(a)\n",
    "    r_choice[i] = draw_choice(a)\n",
    "    \n",
    "print(\"dir:\")    \n",
    "print(np.mean(r_dir, axis=0))\n",
    "print(np.var(r_dir, axis=0))\n",
    "print(\"choice:\")\n",
    "print(np.mean(r_choice, axis=0))\n",
    "print(np.var(r_choice, axis=0))"
   ]
  },
  {
   "cell_type": "code",
   "execution_count": 283,
   "metadata": {},
   "outputs": [],
   "source": [
    "def draw_dir_n(a, n):\n",
    "    return m(n=n, pvals=d(a, size=1)[0], size=1)"
   ]
  },
  {
   "cell_type": "code",
   "execution_count": 284,
   "metadata": {},
   "outputs": [
    {
     "name": "stdout",
     "output_type": "stream",
     "text": [
      "dir:\n",
      "[1.6671 3.3617 4.9712]\n",
      "[3.19587759 5.04687311 5.66877056]\n",
      "choice:\n",
      "[0.1628 0.3289 0.5083]\n",
      "[0.13629616 0.22072479 0.24993111]\n"
     ]
    }
   ],
   "source": [
    "sims = 10000\n",
    "a = [1,2,3]\n",
    "\n",
    "r_dir = np.zeros(shape=[sims, 3])\n",
    "r_choice = np.zeros(shape=[sims, 3])\n",
    "for i in range(sims):\n",
    "    r_dir[i] = draw_dir_n(a, 10)\n",
    "    r_choice[i] = draw_choice(a)\n",
    "    \n",
    "print(\"dir:\")    \n",
    "print(np.mean(r_dir, axis=0))\n",
    "print(np.var(r_dir, axis=0))\n",
    "print(\"choice:\")\n",
    "print(np.mean(r_choice, axis=0))\n",
    "print(np.var(r_choice, axis=0))"
   ]
  },
  {
   "cell_type": "code",
   "execution_count": 285,
   "metadata": {},
   "outputs": [
    {
     "data": {
      "text/plain": [
       "array([1.671, 3.442, 4.887])"
      ]
     },
     "execution_count": 285,
     "metadata": {},
     "output_type": "execute_result"
    }
   ],
   "source": [
    "np.mean(r_dir[:1000], axis=0)"
   ]
  },
  {
   "cell_type": "code",
   "execution_count": 276,
   "metadata": {},
   "outputs": [
    {
     "data": {
      "text/plain": [
       "array([0.1645, 0.3326, 0.5029])"
      ]
     },
     "execution_count": 276,
     "metadata": {},
     "output_type": "execute_result"
    }
   ],
   "source": [
    "np.mean(r_choice, axis=0)"
   ]
  },
  {
   "cell_type": "code",
   "execution_count": null,
   "metadata": {},
   "outputs": [],
   "source": []
  }
 ],
 "metadata": {
  "kernelspec": {
   "display_name": "Python 3",
   "language": "python",
   "name": "python3"
  },
  "language_info": {
   "codemirror_mode": {
    "name": "ipython",
    "version": 3
   },
   "file_extension": ".py",
   "mimetype": "text/x-python",
   "name": "python",
   "nbconvert_exporter": "python",
   "pygments_lexer": "ipython3",
   "version": "3.6.8"
  }
 },
 "nbformat": 4,
 "nbformat_minor": 2
}
