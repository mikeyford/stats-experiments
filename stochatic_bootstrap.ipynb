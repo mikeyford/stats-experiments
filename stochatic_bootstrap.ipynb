{
 "cells": [
  {
   "cell_type": "code",
   "execution_count": 110,
   "metadata": {},
   "outputs": [],
   "source": [
    "import pandas as pd\n",
    "from numpy.random import * \n",
    "from scipy.stats import lognorm\n",
    "\n",
    "%matplotlib inline"
   ]
  },
  {
   "cell_type": "code",
   "execution_count": 155,
   "metadata": {},
   "outputs": [],
   "source": [
    "def r(x): return round(x, 4)\n",
    "\n",
    "def variance(mu, sigma):\n",
    "    a = np.exp(sigma**2) - 1\n",
    "    b = np.exp((2*mu)+(sigma**2))\n",
    "    return a*b\n",
    "\n",
    "def stats(s):\n",
    "    print(\"sampled mean:\", r(np.mean(s)))\n",
    "    print(\"sampled median:\", r(np.median(s)))\n",
    "    print(\"percentiles:\", r(np.percentile(s, 0.025)), r(np.percentile(s, 0.975)))"
   ]
  },
  {
   "cell_type": "code",
   "execution_count": 149,
   "metadata": {},
   "outputs": [
    {
     "name": "stdout",
     "output_type": "stream",
     "text": [
      "sampled mean: 2.3261\n",
      "sampled median: 2.237\n",
      "percentiles: 0.7467 1.1007\n",
      "0.51037571345994\n"
     ]
    },
    {
     "data": {
      "image/png": "[encoded data removed]",
      "text/plain": [
       "<Figure size 432x288 with 1 Axes>"
      ]
     },
     "metadata": {
      "needs_background": "light"
     },
     "output_type": "display_data"
    }
   ],
   "source": [
    "samples = 10000\n",
    "mean = 0.8\n",
    "sigma = 0.3\n",
    "dist = pd.Series(lognormal(mean, sigma, samples))\n",
    "stats(dist)\n",
    "dist.hist(bins=100)\n",
    "print(variance(sigma, mean))\n",
    "# True distribution"
   ]
  },
  {
   "cell_type": "code",
   "execution_count": 130,
   "metadata": {},
   "outputs": [
    {
     "name": "stdout",
     "output_type": "stream",
     "text": [
      "mean: 0.8022773562495238\n",
      "sigma: 0.3015245080564935\n",
      "sampled mean: 2.3423\n",
      "sampled median: 2.2337\n",
      "percentiles: 0.7936 1.1035\n"
     ]
    },
    {
     "data": {
      "text/plain": [
       "<matplotlib.axes._subplots.AxesSubplot at 0x1a215efda0>"
      ]
     },
     "execution_count": 130,
     "metadata": {},
     "output_type": "execute_result"
    },
    {
     "data": {
      "image/png": "[encoded data removed]",
      "text/plain": [
       "<Figure size 432x288 with 1 Axes>"
      ]
     },
     "metadata": {
      "needs_background": "light"
     },
     "output_type": "display_data"
    }
   ],
   "source": [
    "# Fit data directly\n",
    "shape, loc, scale = lognorm.fit(dist, floc=0)\n",
    "print(\"mean:\", np.log(scale))\n",
    "print(\"sigma:\", shape)\n",
    "dist_direct = pd.Series(lognormal(np.log(scale), shape, samples))\n",
    "stats(dist_direct)\n",
    "dist_direct.hist(bins=100)"
   ]
  },
  {
   "cell_type": "code",
   "execution_count": 161,
   "metadata": {},
   "outputs": [
    {
     "name": "stdout",
     "output_type": "stream",
     "text": [
      "sampled mean: 2.3308\n",
      "sampled median: 2.2335\n",
      "percentiles: 0.7934 1.1077\n"
     ]
    },
    {
     "data": {
      "text/plain": [
       "<matplotlib.axes._subplots.AxesSubplot at 0x1a2257ab00>"
      ]
     },
     "execution_count": 161,
     "metadata": {},
     "output_type": "execute_result"
    },
    {
     "data": {
      "image/png": "[encoded data removed]",
      "text/plain": [
       "<Figure size 432x288 with 1 Axes>"
      ]
     },
     "metadata": {
      "needs_background": "light"
     },
     "output_type": "display_data"
    }
   ],
   "source": [
    "def bootstrap(d):\n",
    "    sims = 1000\n",
    "    draws_per_loop = 10\n",
    "    boot_samples = []\n",
    "    \n",
    "    for i in range(sims):\n",
    "        d_ = d.sample(frac=1.0, replace=True)\n",
    "        shape, loc, scale = lognorm.fit(d_, floc=0)\n",
    "        boot_samples.extend(lognormal(np.log(scale), shape, draws_per_loop))\n",
    "    \n",
    "    return boot_samples\n",
    "          \n",
    "    \n",
    "boot_dist = pd.Series(bootstrap(dist))\n",
    "stats(boot_dist)\n",
    "boot_dist.hist(bins=100)"
   ]
  },
  {
   "cell_type": "code",
   "execution_count": 187,
   "metadata": {},
   "outputs": [],
   "source": [
    "def bootstrap(d):\n",
    "    sims = 1000\n",
    "    draws_per_loop = 10\n",
    "    boot_samples = []\n",
    "    \n",
    "    for i in range(sims):\n",
    "        d_ = d.sample(frac=1.0, replace=True)\n",
    "        shape, loc, scale = lognorm.fit(d_, floc=0)\n",
    "        boot_samples.extend(lognormal(np.log(scale), shape, draws_per_loop))\n",
    "    \n",
    "    return boot_samples\n",
    "\n",
    "true_mean = []\n",
    "true_variance = []\n",
    "\n",
    "fit_mean = []\n",
    "fit_variance = []\n",
    "fit_lower = []\n",
    "fit_upper = []\n",
    "\n",
    "boot_mean = []\n",
    "boot_variance = []\n",
    "boot_lower = []\n",
    "boot_upper = []\n",
    "\n",
    "for i in range(100):\n",
    "    samples = 1000\n",
    "    mean = 0.8\n",
    "    sigma = 0.3\n",
    "    \n",
    "    true = lognormal(mean, sigma, samples)\n",
    "    true_mean.append(np.mean(true))\n",
    "    true_variance.append(variance(mean, sigma))\n",
    "    \n",
    "    direct_fit = lognorm.fit(true, floc=0)\n",
    "    dist_direct = lognormal(np.log(direct_fit[2]), direct_fit[0], samples)\n",
    "    fit_mean.append(np.mean(dist_direct))\n",
    "    fit_variance.append(np.var(dist_direct))\n",
    "    fit_lower.append(np.percentile(dist_direct, 0.025))\n",
    "    fit_upper.append(np.percentile(dist_direct, 0.975))\n",
    "    \n",
    "    boot_samples = bootstrap(pd.Series(true))\n",
    "    boot_mean.append(np.mean(boot_samples))\n",
    "    boot_variance.append(np.var(boot_samples))\n",
    "    boot_lower.append(np.percentile(boot_samples, 0.025))\n",
    "    boot_upper.append(np.percentile(boot_samples, 0.975))\n",
    "\n",
    "    \n",
    "    \n",
    "    \n",
    "df = pd.DataFrame({'true_mean': true_mean,\n",
    "                   'true_var': true_variance,\n",
    "                   'fit_mean': fit_mean,\n",
    "                   'fit_var': fit_variance,\n",
    "                   'fit_lower': fit_lower,\n",
    "                   'fit_upper': fit_upper,\n",
    "                   'boot_mean': boot_mean,\n",
    "                   'boot_var': boot_variance,\n",
    "                   'boot_lower': boot_lower,\n",
    "                   'boot_upper': boot_upper})   \n",
    "  "
   ]
  },
  {
   "cell_type": "code",
   "execution_count": 188,
   "metadata": {},
   "outputs": [
    {
     "data": {
      "text/plain": [
       "true_mean     2.328193\n",
       "true_var      0.510376\n",
       "fit_mean      2.327628\n",
       "fit_var       0.512245\n",
       "fit_lower     0.870785\n",
       "fit_upper     1.112286\n",
       "boot_mean     2.327787\n",
       "boot_var      0.511386\n",
       "boot_lower    0.792564\n",
       "boot_upper    1.105213\n",
       "dtype: float64"
      ]
     },
     "execution_count": 188,
     "metadata": {},
     "output_type": "execute_result"
    }
   ],
   "source": [
    "df.mean()"
   ]
  }
 ],
 "metadata": {
  "kernelspec": {
   "display_name": "Python 3",
   "language": "python",
   "name": "python3"
  },
  "language_info": {
   "codemirror_mode": {
    "name": "ipython",
    "version": 3
   },
   "file_extension": ".py",
   "mimetype": "text/x-python",
   "name": "python",
   "nbconvert_exporter": "python",
   "pygments_lexer": "ipython3",
   "version": "3.6.6"
  }
 },
 "nbformat": 4,
 "nbformat_minor": 2
}
